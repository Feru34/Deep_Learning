{
  "nbformat": 4,
  "nbformat_minor": 0,
  "metadata": {
    "colab": {
      "provenance": [],
      "include_colab_link": true
    },
    "kernelspec": {
      "name": "python3",
      "display_name": "Python 3"
    },
    "language_info": {
      "name": "python"
    }
  },
  "cells": [
    {
      "cell_type": "markdown",
      "metadata": {
        "id": "view-in-github",
        "colab_type": "text"
      },
      "source": [
        "<a href=\"https://colab.research.google.com/github/Feru34/Deep_Learning/blob/main/Talleres/Taller%202/Taller_2_%7BRueda_Felipe%7D_%7BMijares_Alfredo%7D.ipynb\" target=\"_parent\"><img src=\"https://colab.research.google.com/assets/colab-badge.svg\" alt=\"Open In Colab\"/></a>"
      ]
    },
    {
      "cell_type": "markdown",
      "source": [
        "<a href=\"https://colab.research.google.com/github/fcastellanosp/MINE-4210_202420_ADL/blob/main/Talleres/Taller%202/MINE4210_ADL2024_Taller2.ipynb\" target=\"_parent\"><img src=\"https://colab.research.google.com/assets/colab-badge.svg\" alt=\"Open In Colab\"/></a>"
      ],
      "metadata": {
        "id": "14quiOGQcZvC"
      }
    },
    {
      "cell_type": "markdown",
      "source": [
        "![Logo ADL](https://github.com/fcastellanosp/MINE-4210_202420_ADL/blob/main/Laboratorios/logo_adl.png?raw=true)"
      ],
      "metadata": {
        "id": "K3r7qAgDcWcz"
      }
    },
    {
      "cell_type": "markdown",
      "source": [
        "# **Taller 2**\n",
        "\n",
        "- **Integrante 1:** Felipe Rueda\n",
        "- **Integrante 2:**"
      ],
      "metadata": {
        "id": "5ojYaeubc6-5"
      }
    },
    {
      "cell_type": "markdown",
      "source": [
        "Bangladesh es una de los países con más tráfico en el mundo. Allí se encuentran algunas particularidades como los *rickshaw*, que son vehículos de 2 ruedas impulsados por una persona.\n",
        "\n",
        "Los estudios indican que alrededos de 3.000 personas fallecen al año a causa de accidentes de tránsito.\n",
        "\n",
        "Como consultor del sector de transporte, la organización ha procesado alrededor de 20.000 imágenes etiquetadas con información de objetos que pertenecen a las siguientes 13 clases:\n",
        "\n",
        "* person\n",
        "* rickshaw\n",
        "* rickshaw van\n",
        "* auto rickshaw\n",
        "* truck\n",
        "* pickup truck\n",
        "* private car\n",
        "* motorcycle\n",
        "* bicycle\n",
        "* bus\n",
        "* micro bus\n",
        "* covered van\n",
        "* human hauler\n",
        "\n",
        "Han sido contratados para buscar un proceso que permita acelerar el entendimiento de esta problemática, para el cuál le solicitan construir un modelo de detección de objetos que permita identificar los diferentes actores viales.\n",
        "\n",
        "La información etiquetada se encuentra en  \"[Bangladesh traffic](https://www.kaggle.com/datasets/hasibzunair/rsud20k-bangladesh-road-scene-understanding)\"."
      ],
      "metadata": {
        "id": "vjTi178bc8eY"
      }
    },
    {
      "cell_type": "markdown",
      "source": [
        "# **Preguntas:**\n",
        "\n",
        "1.   Construir una red neuronal de detección de objetos usando un modelo pre-entrenado. Recuerden ser descriptivos en el Preprocesamiento de Datos, Utilización de Modelos Pre-entrenados, Evaluación de Rendimiento y búsqueda de hiperparámetros.\n",
        "\n",
        "2.  Proporcionar algunos ejemplos de detección de objetos con la red entrenada y lo comparen con la imagen con los datos anotados. Traten de usar imágenes con 1 objeto asi como imágenes con varios objetos.\n",
        "\n",
        "3.  Investigar la métrica mAP y cómo la interpreta para la red entrenada.\n",
        "\n",
        "4. Calcular el número de escenarios (imágenes) que involucran personas en el conjunto de prueba."
      ],
      "metadata": {
        "id": "Wc7LjhfHcQ67"
      }
    },
    {
      "cell_type": "markdown",
      "source": [
        "# **Notas Importantes:**\n",
        "- Pueden usar la versión de Yolo del laboratorio u otra distinta.\n",
        "- El archivo a presentar debe ser en formato .ipynb o HTML ya ejecutado. Celda que no esté ejecutada no se podrá evaluar.\n",
        "- El nombre del archivo debe ser `Taller_2_{Apellido_Nombre}_{Apellido_Nombre}` de cada integrante respectivamente."
      ],
      "metadata": {
        "id": "bKrrPdPKdHPZ"
      }
    },
    {
      "cell_type": "markdown",
      "source": [
        "# 1. Construir una red neuronal de detección de objetos usando un modelo pre-entrenado"
      ],
      "metadata": {
        "id": "eYS9ACzr8b--"
      }
    },
    {
      "cell_type": "markdown",
      "source": [
        "## Utilización de librerías"
      ],
      "metadata": {
        "id": "iq9zNro1-tU2"
      }
    },
    {
      "cell_type": "code",
      "source": [
        "\n",
        "!pip install ultralytics==8.0.196\n",
        "\n",
        "from IPython import display\n",
        "display.clear_output()\n",
        "\n",
        "import ultralytics\n",
        "ultralytics.checks()"
      ],
      "metadata": {
        "id": "5v_GfHTE9v3g"
      },
      "execution_count": null,
      "outputs": []
    },
    {
      "cell_type": "code",
      "source": [
        "import pandas as pd\n",
        "import numpy as np\n",
        "\n",
        "import os\n",
        "import os.path as osp\n",
        "import random\n",
        "import re\n",
        "import shutil\n",
        "\n",
        "#Visualización de datos\n",
        "import matplotlib.pyplot as plt\n",
        "import matplotlib.image as mpimg\n",
        "%matplotlib inline\n",
        "\n",
        "from IPython.display import display, Image\n",
        "\n",
        "from numpy import asarray\n",
        "\n",
        "from PIL import Image\n",
        "\n",
        "from ultralytics import YOLO"
      ],
      "metadata": {
        "id": "ZSQWVArM9x-W"
      },
      "execution_count": null,
      "outputs": []
    },
    {
      "cell_type": "code",
      "source": [
        "!nvidia-smi"
      ],
      "metadata": {
        "id": "-YJLLbGX90Se"
      },
      "execution_count": null,
      "outputs": []
    },
    {
      "cell_type": "markdown",
      "source": [
        "## Preprocesamiento de datos"
      ],
      "metadata": {
        "id": "jAhcZTHa8hc8"
      }
    },
    {
      "cell_type": "code",
      "source": [
        "my_seed = 19 #Semilla para reproducibilidad\n",
        "IMG_EXT = ['.jpg', '.jpeg', '.png', '.bmp'] #Extensiones válidas de imagen\n",
        "TEXT_EXT = '.txt'\n",
        "YOLO_VERSION = 'yolov8'"
      ],
      "metadata": {
        "id": "-6PBcYrB_Dyx"
      },
      "execution_count": null,
      "outputs": []
    },
    {
      "cell_type": "markdown",
      "source": [
        "## Utilización de Modelos Pre-entrenados"
      ],
      "metadata": {
        "id": "I5k3VgOD8hDr"
      }
    },
    {
      "cell_type": "markdown",
      "source": [
        "## Evaluación de Rendimiento"
      ],
      "metadata": {
        "id": "In9CeXfs8wzZ"
      }
    },
    {
      "cell_type": "markdown",
      "source": [
        "## Búsqueda de hiperparámetros"
      ],
      "metadata": {
        "id": "aO0EnWHe85cC"
      }
    },
    {
      "cell_type": "markdown",
      "source": [
        "# Ejemplos de detección de objetos con la red entrenada y su respetiva comparación"
      ],
      "metadata": {
        "id": "5tX3JD7G9GNs"
      }
    },
    {
      "cell_type": "markdown",
      "source": [
        "# Métrica mAP"
      ],
      "metadata": {
        "id": "9SgM5O7V9S6l"
      }
    },
    {
      "cell_type": "markdown",
      "source": [
        "## Cómo la interpreta para la red entrenada?"
      ],
      "metadata": {
        "id": "tkTJKQOO9U2j"
      }
    },
    {
      "cell_type": "markdown",
      "source": [
        "# Número de escenarios (imágenes) que involucran personas en el conjunto de prueba"
      ],
      "metadata": {
        "id": "MBh7ho6i9iar"
      }
    }
  ]
}
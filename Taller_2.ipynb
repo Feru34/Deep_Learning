{
  "nbformat": 4,
  "nbformat_minor": 0,
  "metadata": {
    "colab": {
      "provenance": [],
      "authorship_tag": "ABX9TyOrAL97tL+fnmpyGooXbDk0",
      "include_colab_link": true
    },
    "kernelspec": {
      "name": "python3",
      "display_name": "Python 3"
    },
    "language_info": {
      "name": "python"
    }
  },
  "cells": [
    {
      "cell_type": "markdown",
      "metadata": {
        "id": "view-in-github",
        "colab_type": "text"
      },
      "source": [
        "<a href=\"https://colab.research.google.com/github/Feru34/Deep_Learning/blob/main/Taller_2.ipynb\" target=\"_parent\"><img src=\"https://colab.research.google.com/assets/colab-badge.svg\" alt=\"Open In Colab\"/></a>"
      ]
    },
    {
      "cell_type": "code",
      "source": [
        "!pip install https://github.com/pandas-profiling/pandas-profiling/archive/master.zip -q\n",
        "!pip install keras-tuner -q\n",
        "!pip install kaggle -q\n",
        "!pip install scikeras -q\n",
        "# El '-q' hace referencia a 'quiet'. Por lo tanto el output de los paquetes no se muestra completo"
      ],
      "metadata": {
        "colab": {
          "base_uri": "https://localhost:8080/"
        },
        "id": "DIEvt5t747Ff",
        "outputId": "c65d7cdc-e509-402f-99c4-889e4ebe6297"
      },
      "execution_count": 1,
      "outputs": [
        {
          "output_type": "stream",
          "name": "stdout",
          "text": [
            "  Preparing metadata (setup.py) ... \u001b[?25l\u001b[?25hdone\n"
          ]
        }
      ]
    },
    {
      "cell_type": "code",
      "source": [
        "import numpy as np\n",
        "import pandas as pd\n",
        "from google.colab import files\n",
        "\n",
        "from pandas_profiling import ProfileReport\n",
        "from numpy import sqrt\n",
        "\n",
        "import matplotlib.pyplot as plt\n",
        "plt.style.use(\"seaborn-deep\")\n",
        "import seaborn as sns\n",
        "\n",
        "import tensorflow as tf\n",
        "\n",
        "from keras.models import Sequential\n",
        "from keras.layers import Dense, Input\n",
        "from keras.utils import plot_model\n",
        "import keras_tuner as kt\n",
        "\n",
        "from scikeras.wrappers import KerasClassifier\n",
        "\n",
        "from sklearn.model_selection import train_test_split\n",
        "from sklearn.preprocessing import MinMaxScaler, StandardScaler, LabelEncoder, FunctionTransformer\n",
        "from sklearn.metrics import mean_squared_error, mean_absolute_error, confusion_matrix, classification_report"
      ],
      "metadata": {
        "colab": {
          "base_uri": "https://localhost:8080/"
        },
        "id": "1jsfqk6_9ZLq",
        "outputId": "62fe3e09-073f-4deb-cb90-b7a572b5f05c"
      },
      "execution_count": 2,
      "outputs": [
        {
          "output_type": "stream",
          "name": "stderr",
          "text": [
            "<ipython-input-2-55e46eb7280f>:5: DeprecationWarning: `import pandas_profiling` is going to be deprecated by April 1st. Please use `import ydata_profiling` instead.\n",
            "  from pandas_profiling import ProfileReport\n",
            "<ipython-input-2-55e46eb7280f>:9: MatplotlibDeprecationWarning: The seaborn styles shipped by Matplotlib are deprecated since 3.6, as they no longer correspond to the styles shipped by seaborn. However, they will remain available as 'seaborn-v0_8-<style>'. Alternatively, directly use the seaborn API instead.\n",
            "  plt.style.use(\"seaborn-deep\")\n"
          ]
        }
      ]
    },
    {
      "cell_type": "code",
      "source": [
        "files.upload() # Cargamos el Kaggle.json (API)\n",
        "\n",
        "!rm -r ~/.kaggle\n",
        "!mkdir ~/.kaggle\n",
        "!mv ./kaggle.json ~/.kaggle/\n",
        "!chmod 600 ~/.kaggle/kaggle.json\n",
        "!kaggle datasets list #Correr este comando verifica que está bien montado el driver de kaggle"
      ],
      "metadata": {
        "colab": {
          "base_uri": "https://localhost:8080/",
          "height": 479
        },
        "id": "vv5F6iEv9iIp",
        "outputId": "4ce9a9d9-f516-4eed-c28e-f8b4e51ef5a5"
      },
      "execution_count": 3,
      "outputs": [
        {
          "output_type": "display_data",
          "data": {
            "text/plain": [
              "<IPython.core.display.HTML object>"
            ],
            "text/html": [
              "\n",
              "     <input type=\"file\" id=\"files-df125961-3bf5-4209-aeb0-9c8d65b16b2c\" name=\"files[]\" multiple disabled\n",
              "        style=\"border:none\" />\n",
              "     <output id=\"result-df125961-3bf5-4209-aeb0-9c8d65b16b2c\">\n",
              "      Upload widget is only available when the cell has been executed in the\n",
              "      current browser session. Please rerun this cell to enable.\n",
              "      </output>\n",
              "      <script>// Copyright 2017 Google LLC\n",
              "//\n",
              "// Licensed under the Apache License, Version 2.0 (the \"License\");\n",
              "// you may not use this file except in compliance with the License.\n",
              "// You may obtain a copy of the License at\n",
              "//\n",
              "//      http://www.apache.org/licenses/LICENSE-2.0\n",
              "//\n",
              "// Unless required by applicable law or agreed to in writing, software\n",
              "// distributed under the License is distributed on an \"AS IS\" BASIS,\n",
              "// WITHOUT WARRANTIES OR CONDITIONS OF ANY KIND, either express or implied.\n",
              "// See the License for the specific language governing permissions and\n",
              "// limitations under the License.\n",
              "\n",
              "/**\n",
              " * @fileoverview Helpers for google.colab Python module.\n",
              " */\n",
              "(function(scope) {\n",
              "function span(text, styleAttributes = {}) {\n",
              "  const element = document.createElement('span');\n",
              "  element.textContent = text;\n",
              "  for (const key of Object.keys(styleAttributes)) {\n",
              "    element.style[key] = styleAttributes[key];\n",
              "  }\n",
              "  return element;\n",
              "}\n",
              "\n",
              "// Max number of bytes which will be uploaded at a time.\n",
              "const MAX_PAYLOAD_SIZE = 100 * 1024;\n",
              "\n",
              "function _uploadFiles(inputId, outputId) {\n",
              "  const steps = uploadFilesStep(inputId, outputId);\n",
              "  const outputElement = document.getElementById(outputId);\n",
              "  // Cache steps on the outputElement to make it available for the next call\n",
              "  // to uploadFilesContinue from Python.\n",
              "  outputElement.steps = steps;\n",
              "\n",
              "  return _uploadFilesContinue(outputId);\n",
              "}\n",
              "\n",
              "// This is roughly an async generator (not supported in the browser yet),\n",
              "// where there are multiple asynchronous steps and the Python side is going\n",
              "// to poll for completion of each step.\n",
              "// This uses a Promise to block the python side on completion of each step,\n",
              "// then passes the result of the previous step as the input to the next step.\n",
              "function _uploadFilesContinue(outputId) {\n",
              "  const outputElement = document.getElementById(outputId);\n",
              "  const steps = outputElement.steps;\n",
              "\n",
              "  const next = steps.next(outputElement.lastPromiseValue);\n",
              "  return Promise.resolve(next.value.promise).then((value) => {\n",
              "    // Cache the last promise value to make it available to the next\n",
              "    // step of the generator.\n",
              "    outputElement.lastPromiseValue = value;\n",
              "    return next.value.response;\n",
              "  });\n",
              "}\n",
              "\n",
              "/**\n",
              " * Generator function which is called between each async step of the upload\n",
              " * process.\n",
              " * @param {string} inputId Element ID of the input file picker element.\n",
              " * @param {string} outputId Element ID of the output display.\n",
              " * @return {!Iterable<!Object>} Iterable of next steps.\n",
              " */\n",
              "function* uploadFilesStep(inputId, outputId) {\n",
              "  const inputElement = document.getElementById(inputId);\n",
              "  inputElement.disabled = false;\n",
              "\n",
              "  const outputElement = document.getElementById(outputId);\n",
              "  outputElement.innerHTML = '';\n",
              "\n",
              "  const pickedPromise = new Promise((resolve) => {\n",
              "    inputElement.addEventListener('change', (e) => {\n",
              "      resolve(e.target.files);\n",
              "    });\n",
              "  });\n",
              "\n",
              "  const cancel = document.createElement('button');\n",
              "  inputElement.parentElement.appendChild(cancel);\n",
              "  cancel.textContent = 'Cancel upload';\n",
              "  const cancelPromise = new Promise((resolve) => {\n",
              "    cancel.onclick = () => {\n",
              "      resolve(null);\n",
              "    };\n",
              "  });\n",
              "\n",
              "  // Wait for the user to pick the files.\n",
              "  const files = yield {\n",
              "    promise: Promise.race([pickedPromise, cancelPromise]),\n",
              "    response: {\n",
              "      action: 'starting',\n",
              "    }\n",
              "  };\n",
              "\n",
              "  cancel.remove();\n",
              "\n",
              "  // Disable the input element since further picks are not allowed.\n",
              "  inputElement.disabled = true;\n",
              "\n",
              "  if (!files) {\n",
              "    return {\n",
              "      response: {\n",
              "        action: 'complete',\n",
              "      }\n",
              "    };\n",
              "  }\n",
              "\n",
              "  for (const file of files) {\n",
              "    const li = document.createElement('li');\n",
              "    li.append(span(file.name, {fontWeight: 'bold'}));\n",
              "    li.append(span(\n",
              "        `(${file.type || 'n/a'}) - ${file.size} bytes, ` +\n",
              "        `last modified: ${\n",
              "            file.lastModifiedDate ? file.lastModifiedDate.toLocaleDateString() :\n",
              "                                    'n/a'} - `));\n",
              "    const percent = span('0% done');\n",
              "    li.appendChild(percent);\n",
              "\n",
              "    outputElement.appendChild(li);\n",
              "\n",
              "    const fileDataPromise = new Promise((resolve) => {\n",
              "      const reader = new FileReader();\n",
              "      reader.onload = (e) => {\n",
              "        resolve(e.target.result);\n",
              "      };\n",
              "      reader.readAsArrayBuffer(file);\n",
              "    });\n",
              "    // Wait for the data to be ready.\n",
              "    let fileData = yield {\n",
              "      promise: fileDataPromise,\n",
              "      response: {\n",
              "        action: 'continue',\n",
              "      }\n",
              "    };\n",
              "\n",
              "    // Use a chunked sending to avoid message size limits. See b/62115660.\n",
              "    let position = 0;\n",
              "    do {\n",
              "      const length = Math.min(fileData.byteLength - position, MAX_PAYLOAD_SIZE);\n",
              "      const chunk = new Uint8Array(fileData, position, length);\n",
              "      position += length;\n",
              "\n",
              "      const base64 = btoa(String.fromCharCode.apply(null, chunk));\n",
              "      yield {\n",
              "        response: {\n",
              "          action: 'append',\n",
              "          file: file.name,\n",
              "          data: base64,\n",
              "        },\n",
              "      };\n",
              "\n",
              "      let percentDone = fileData.byteLength === 0 ?\n",
              "          100 :\n",
              "          Math.round((position / fileData.byteLength) * 100);\n",
              "      percent.textContent = `${percentDone}% done`;\n",
              "\n",
              "    } while (position < fileData.byteLength);\n",
              "  }\n",
              "\n",
              "  // All done.\n",
              "  yield {\n",
              "    response: {\n",
              "      action: 'complete',\n",
              "    }\n",
              "  };\n",
              "}\n",
              "\n",
              "scope.google = scope.google || {};\n",
              "scope.google.colab = scope.google.colab || {};\n",
              "scope.google.colab._files = {\n",
              "  _uploadFiles,\n",
              "  _uploadFilesContinue,\n",
              "};\n",
              "})(self);\n",
              "</script> "
            ]
          },
          "metadata": {}
        },
        {
          "output_type": "stream",
          "name": "stdout",
          "text": [
            "Saving kaggle.json to kaggle.json\n",
            "ref                                                              title                                                size  lastUpdated          downloadCount  voteCount  usabilityRating  \n",
            "---------------------------------------------------------------  --------------------------------------------------  -----  -------------------  -------------  ---------  ---------------  \n",
            "lainguyn123/student-performance-factors                          Student Performance Factors                          94KB  2024-09-02 10:53:57           6288        140  1.0              \n",
            "hanaksoy/customer-purchasing-behaviors                           Customer Purchasing Behaviors                         1KB  2024-09-01 22:18:07           3732         53  1.0              \n",
            "haseebindata/student-performance-predictions                     Student Performance Predictions                       9KB  2024-08-17 06:57:57          11711        249  0.9411765        \n",
            "computingvictor/2024-academic-ranking-of-world-universities      🥇 Top Universities Ranking 2024                      19KB  2024-08-20 11:54:54           1936         38  1.0              \n",
            "abdullah0a/retail-sales-data-with-seasonal-trends-and-marketing  Retail Sales Data with Seasonal Trends & Marketing  320KB  2024-09-09 07:02:46           1872         37  1.0              \n",
            "waqi786/climate-change-impact-on-agriculture                     🌍 Climate Change Impact on Agriculture 🌱            327KB  2024-09-06 13:25:59           1989         38  1.0              \n",
            "thebumpkin/300-world-music-tracks-with-spotify-data              300 World Music Tracks (with Spotify Data)           19KB  2024-08-25 13:05:14           1621         26  1.0              \n",
            "muhammadehsan02/formula-1-world-championship-history-1950-2024   Formula 1 World Championship History (1950-2024)      6MB  2024-09-03 20:11:24           1353         31  1.0              \n",
            "thebumpkin/10400-classic-hits-10-genres-1923-to-2023             15,000 Music Tracks - 19 Genres (w/ Spotify Data)   677KB  2024-08-30 18:20:48           1175         25  1.0              \n",
            "uom190346a/ai-powered-job-market-insights                        AI-Powered Job Market Insights                       10KB  2024-08-26 05:55:43           4236         80  1.0              \n",
            "marius2303/ad-click-prediction-dataset                            📣 Ad Click Prediction Dataset                       81KB  2024-09-07 13:08:11           1091         28  1.0              \n",
            "muhammadehsan02/126-years-of-historical-olympic-dataset          126 Years of Historical Olympic Dataset              27MB  2024-08-27 12:51:57           1819         41  1.0              \n",
            "michaelmatta0/amazon-cell-phones-cleaned-scraped-data            Amazon Cell Phones Cleaned Scraped Data               2MB  2024-09-10 21:01:15            886         25  1.0              \n",
            "abdullah0a/human-age-prediction-synthetic-dataset                Human Age Prediction Synthetic Dataset              739KB  2024-09-04 07:25:39           2118         35  1.0              \n",
            "muhammadehsan02/olympic-summer-games-paris-2024                  Olympic Summer Games - Paris 2024                     3MB  2024-08-24 18:51:30           1996         33  1.0              \n",
            "mbsoroush/google-dataset                                         Google Dataset                                       29KB  2024-09-06 03:09:40            350         23  1.0              \n",
            "abdullahashfaqvirk/student-mental-health-survey                  Student Mental Health Survey                          2KB  2024-08-23 15:38:57           4698         73  0.88235295       \n",
            "waqi786/most-used-beauty-cosmetics-products-in-the-world         💄 Top Beauty & Cosmetics Products Worldwide 2024    315KB  2024-09-09 06:22:19            874         27  1.0              \n",
            "novandraanugrah/bitcoin-historical-datasets-2018-2024            BITCOIN Historical Datasets 2018-2024                17MB  2024-09-09 01:19:56           1078         36  1.0              \n",
            "stefanydeoliveira/summer-olympics-medals-1896-2024               Summer Olympics Medals (1896-2024)                    4MB  2024-08-29 23:52:10           2297         46  1.0              \n"
          ]
        }
      ]
    },
    {
      "cell_type": "code",
      "source": [
        "!pip install ultralytics==8.0.196\n",
        "\n",
        "from IPython import display\n",
        "display.clear_output()\n",
        "\n",
        "import ultralytics\n",
        "ultralytics.checks()"
      ],
      "metadata": {
        "colab": {
          "base_uri": "https://localhost:8080/"
        },
        "id": "vuY7qeri9n3p",
        "outputId": "a6667905-8512-417d-c9e8-ba7ed2a9e09a"
      },
      "execution_count": 4,
      "outputs": [
        {
          "output_type": "stream",
          "name": "stderr",
          "text": [
            "Ultralytics YOLOv8.0.196 🚀 Python-3.10.12 torch-2.4.0+cu121 CPU (Intel Xeon 2.20GHz)\n",
            "Setup complete ✅ (2 CPUs, 12.7 GB RAM, 43.2/107.7 GB disk)\n"
          ]
        }
      ]
    },
    {
      "cell_type": "code",
      "source": [
        "import pandas as pd\n",
        "import numpy as np\n",
        "\n",
        "import os\n",
        "import os.path as osp\n",
        "import random\n",
        "import re\n",
        "import shutil\n",
        "\n",
        "#Visualización de datos\n",
        "import matplotlib.pyplot as plt\n",
        "import matplotlib.image as mpimg\n",
        "%matplotlib inline\n",
        "\n",
        "from IPython.display import display, Image\n",
        "\n",
        "from numpy import asarray\n",
        "\n",
        "from PIL import Image\n",
        "\n",
        "from ultralytics import YOLO"
      ],
      "metadata": {
        "id": "BgMsDGWb9yTv"
      },
      "execution_count": 5,
      "outputs": []
    },
    {
      "cell_type": "code",
      "source": [
        "!nvidia-smi"
      ],
      "metadata": {
        "colab": {
          "base_uri": "https://localhost:8080/"
        },
        "id": "AENwkn1z91X2",
        "outputId": "ac397e34-31a2-49a5-aae0-33a4d2c58ce1"
      },
      "execution_count": 6,
      "outputs": [
        {
          "output_type": "stream",
          "name": "stdout",
          "text": [
            "/bin/bash: line 1: nvidia-smi: command not found\n"
          ]
        }
      ]
    },
    {
      "cell_type": "code",
      "source": [
        "my_seed = 19 #Semilla para reproducibilidad\n",
        "IMG_EXT = ['.jpg', '.jpeg', '.png', '.bmp'] #Extensiones válidas de imagen\n",
        "TEXT_EXT = '.txt'\n",
        "YOLO_VERSION = 'yolov8'"
      ],
      "metadata": {
        "id": "vtSSBtYl96nm"
      },
      "execution_count": 7,
      "outputs": []
    },
    {
      "cell_type": "code",
      "source": [
        "random.seed(my_seed)"
      ],
      "metadata": {
        "id": "VbEL-DMF999N"
      },
      "execution_count": 8,
      "outputs": []
    },
    {
      "cell_type": "code",
      "source": [
        "!kaggle datasets list"
      ],
      "metadata": {
        "colab": {
          "base_uri": "https://localhost:8080/"
        },
        "id": "tnCa_Xac-AwF",
        "outputId": "41cb96be-c2dd-4800-c11b-f8f51c4cb8d2"
      },
      "execution_count": 9,
      "outputs": [
        {
          "output_type": "stream",
          "name": "stdout",
          "text": [
            "ref                                                              title                                                size  lastUpdated          downloadCount  voteCount  usabilityRating  \n",
            "---------------------------------------------------------------  --------------------------------------------------  -----  -------------------  -------------  ---------  ---------------  \n",
            "lainguyn123/student-performance-factors                          Student Performance Factors                          94KB  2024-09-02 10:53:57           6288        140  1.0              \n",
            "hanaksoy/customer-purchasing-behaviors                           Customer Purchasing Behaviors                         1KB  2024-09-01 22:18:07           3732         53  1.0              \n",
            "haseebindata/student-performance-predictions                     Student Performance Predictions                       9KB  2024-08-17 06:57:57          11711        249  0.9411765        \n",
            "computingvictor/2024-academic-ranking-of-world-universities      🥇 Top Universities Ranking 2024                      19KB  2024-08-20 11:54:54           1936         38  1.0              \n",
            "abdullah0a/retail-sales-data-with-seasonal-trends-and-marketing  Retail Sales Data with Seasonal Trends & Marketing  320KB  2024-09-09 07:02:46           1872         37  1.0              \n",
            "waqi786/climate-change-impact-on-agriculture                     🌍 Climate Change Impact on Agriculture 🌱            327KB  2024-09-06 13:25:59           1989         38  1.0              \n",
            "thebumpkin/300-world-music-tracks-with-spotify-data              300 World Music Tracks (with Spotify Data)           19KB  2024-08-25 13:05:14           1621         26  1.0              \n",
            "muhammadehsan02/formula-1-world-championship-history-1950-2024   Formula 1 World Championship History (1950-2024)      6MB  2024-09-03 20:11:24           1353         31  1.0              \n",
            "thebumpkin/10400-classic-hits-10-genres-1923-to-2023             15,000 Music Tracks - 19 Genres (w/ Spotify Data)   677KB  2024-08-30 18:20:48           1175         25  1.0              \n",
            "uom190346a/ai-powered-job-market-insights                        AI-Powered Job Market Insights                       10KB  2024-08-26 05:55:43           4236         80  1.0              \n",
            "marius2303/ad-click-prediction-dataset                            📣 Ad Click Prediction Dataset                       81KB  2024-09-07 13:08:11           1091         28  1.0              \n",
            "muhammadehsan02/126-years-of-historical-olympic-dataset          126 Years of Historical Olympic Dataset              27MB  2024-08-27 12:51:57           1819         41  1.0              \n",
            "michaelmatta0/amazon-cell-phones-cleaned-scraped-data            Amazon Cell Phones Cleaned Scraped Data               2MB  2024-09-10 21:01:15            886         25  1.0              \n",
            "abdullah0a/human-age-prediction-synthetic-dataset                Human Age Prediction Synthetic Dataset              739KB  2024-09-04 07:25:39           2118         35  1.0              \n",
            "muhammadehsan02/olympic-summer-games-paris-2024                  Olympic Summer Games - Paris 2024                     3MB  2024-08-24 18:51:30           1996         33  1.0              \n",
            "mbsoroush/google-dataset                                         Google Dataset                                       29KB  2024-09-06 03:09:40            350         23  1.0              \n",
            "abdullahashfaqvirk/student-mental-health-survey                  Student Mental Health Survey                          2KB  2024-08-23 15:38:57           4698         73  0.88235295       \n",
            "waqi786/most-used-beauty-cosmetics-products-in-the-world         💄 Top Beauty & Cosmetics Products Worldwide 2024    315KB  2024-09-09 06:22:19            874         27  1.0              \n",
            "novandraanugrah/bitcoin-historical-datasets-2018-2024            BITCOIN Historical Datasets 2018-2024                17MB  2024-09-09 01:19:56           1078         36  1.0              \n",
            "stefanydeoliveira/summer-olympics-medals-1896-2024               Summer Olympics Medals (1896-2024)                    4MB  2024-08-29 23:52:10           2297         46  1.0              \n"
          ]
        }
      ]
    },
    {
      "cell_type": "code",
      "source": [
        "!kaggle datasets download hasibzunair/rsud20k-bangladesh-road-scene-understanding"
      ],
      "metadata": {
        "colab": {
          "base_uri": "https://localhost:8080/"
        },
        "id": "ygGGL6Iq-Jm1",
        "outputId": "452880ee-d85e-49d6-c4b0-0fda5b2ef7fd"
      },
      "execution_count": 24,
      "outputs": [
        {
          "output_type": "stream",
          "name": "stdout",
          "text": [
            "Dataset URL: https://www.kaggle.com/datasets/hasibzunair/rsud20k-bangladesh-road-scene-understanding\n",
            "License(s): Attribution-NonCommercial 4.0 International (CC BY-NC 4.0)\n",
            "rsud20k-bangladesh-road-scene-understanding.zip: Skipping, found more recently modified local copy (use --force to force download)\n"
          ]
        }
      ]
    },
    {
      "cell_type": "code",
      "source": [
        "ROOT_DIR = '/content'\n",
        "DATASET_NAME = 'rsud20kbangladeshroadsceneunderstanding'\n",
        "SUB_DATASET_NAME = 'RBRU.v1-yolov8'"
      ],
      "metadata": {
        "id": "uJI38R2L_SPE"
      },
      "execution_count": 26,
      "outputs": []
    },
    {
      "cell_type": "code",
      "source": [
        "print(f\"!unzip {DATASET_NAME}.zip -d {ROOT_DIR}/{DATASET_NAME}\")"
      ],
      "metadata": {
        "colab": {
          "base_uri": "https://localhost:8080/"
        },
        "id": "PWvakY2-_4BQ",
        "outputId": "70e2446e-4434-4d37-cecb-26b4b5c15588",
        "collapsed": true
      },
      "execution_count": 27,
      "outputs": [
        {
          "output_type": "stream",
          "name": "stdout",
          "text": [
            "!unzip rsud20kbangladeshroadsceneunderstanding.zip -d /content/rsud20kbangladeshroadsceneunderstanding\n"
          ]
        }
      ]
    },
    {
      "cell_type": "code",
      "source": [
        "%cd {ROOT_DIR}\n",
        "!mkdir /{DATASET_NAME}\n",
        "!unzip {DATASET_NAME}.zip -d {ROOT_DIR}/{DATASET_NAME}"
      ],
      "metadata": {
        "colab": {
          "base_uri": "https://localhost:8080/"
        },
        "id": "SIlqSQ1MACoo",
        "outputId": "ab6b4dfd-b83e-453f-84f4-b9aedd0516b5"
      },
      "execution_count": 28,
      "outputs": [
        {
          "output_type": "stream",
          "name": "stdout",
          "text": [
            "/content\n",
            "mkdir: cannot create directory ‘/rsud20kbangladeshroadsceneunderstanding’: File exists\n",
            "unzip:  cannot find or open rsud20kbangladeshroadsceneunderstanding.zip, rsud20kbangladeshroadsceneunderstanding.zip.zip or rsud20kbangladeshroadsceneunderstanding.zip.ZIP.\n"
          ]
        }
      ]
    },
    {
      "cell_type": "code",
      "source": [
        "DATA_DIR = f\"{ROOT_DIR}/{DATASET_NAME}/{SUB_DATASET_NAME}\"\n",
        "print(DATA_DIR)"
      ],
      "metadata": {
        "colab": {
          "base_uri": "https://localhost:8080/"
        },
        "id": "UUBFRe3FAbZg",
        "outputId": "a0c7c75c-bba5-4123-d4a1-00629a5009af"
      },
      "execution_count": 29,
      "outputs": [
        {
          "output_type": "stream",
          "name": "stdout",
          "text": [
            "/content/rsud20kbangladeshroadsceneunderstanding/RBRU.v1-yolov8\n"
          ]
        }
      ]
    },
    {
      "cell_type": "code",
      "source": [
        "subdirs = ['train', 'test', 'valid']"
      ],
      "metadata": {
        "id": "arhyhOCrA9Sn"
      },
      "execution_count": 30,
      "outputs": []
    },
    {
      "cell_type": "code",
      "source": [
        "train_folder = osp.join(DATA_DIR, subdirs[0])\n",
        "train_img_folder = osp.join(train_folder, \"images\")\n",
        "train_lbl_folder = osp.join(train_folder, \"labels\")\n",
        "val_folder = osp.join(DATA_DIR, subdirs[2])\n",
        "val_img_folder = osp.join(val_folder, \"images\")\n",
        "val_lbl_folder = osp.join(val_folder, \"labels\")\n",
        "test_folder = osp.join(DATA_DIR, subdirs[1])\n",
        "test_img_folder = osp.join(test_folder, \"images\")\n",
        "test_lbl_folder = osp.join(test_folder, \"labels\")"
      ],
      "metadata": {
        "id": "IV22-5fsBBeI"
      },
      "execution_count": 31,
      "outputs": []
    },
    {
      "cell_type": "code",
      "source": [
        "folder_list = [train_img_folder, train_lbl_folder,\n",
        "                val_img_folder, val_lbl_folder,\n",
        "                test_img_folder, test_lbl_folder\n",
        "]\n",
        "\n",
        "print(\"Imprimimos las rutas de las carpetas:\")\n",
        "for fa in folder_list:\n",
        "  print(fa)"
      ],
      "metadata": {
        "colab": {
          "base_uri": "https://localhost:8080/"
        },
        "id": "ADiOVMCsBG1Z",
        "outputId": "9a782c0e-b5d4-4cea-a30c-040c83a6e897"
      },
      "execution_count": 17,
      "outputs": [
        {
          "output_type": "stream",
          "name": "stdout",
          "text": [
            "Imprimimos las rutas de las carpetas:\n",
            "/content/rsud20kbangladeshroadsceneunderstanding/RBRU.v1-yolov8/train/images\n",
            "/content/rsud20kbangladeshroadsceneunderstanding/RBRU.v1-yolov8/train/labels\n",
            "/content/rsud20kbangladeshroadsceneunderstanding/RBRU.v1-yolov8/valid/images\n",
            "/content/rsud20kbangladeshroadsceneunderstanding/RBRU.v1-yolov8/valid/labels\n",
            "/content/rsud20kbangladeshroadsceneunderstanding/RBRU.v1-yolov8/test/images\n",
            "/content/rsud20kbangladeshroadsceneunderstanding/RBRU.v1-yolov8/test/labels\n"
          ]
        }
      ]
    },
    {
      "cell_type": "code",
      "source": [
        "folder_list = [train_img_folder, val_img_folder,\n",
        "               test_img_folder]"
      ],
      "metadata": {
        "id": "hKv9QqvfBJTh"
      },
      "execution_count": 18,
      "outputs": []
    },
    {
      "cell_type": "code",
      "source": [
        "print(train_img_folder)"
      ],
      "metadata": {
        "colab": {
          "base_uri": "https://localhost:8080/"
        },
        "id": "gUKeTjBUrsoe",
        "outputId": "b4f27ca6-73e0-44dd-c463-2c2398184cae"
      },
      "execution_count": 19,
      "outputs": [
        {
          "output_type": "stream",
          "name": "stdout",
          "text": [
            "/content/rsud20kbangladeshroadsceneunderstanding/RBRU.v1-yolov8/train/images\n"
          ]
        }
      ]
    },
    {
      "cell_type": "code",
      "source": [
        "img_name_list = []\n",
        "img_width_list = []\n",
        "img_height_list = []\n",
        "img_folder_list = []\n",
        "img_format_list = []\n",
        "\n",
        "for fa in folder_list:\n",
        "  parent = os.path.dirname(fa)\n",
        "  parent_name = os.path.basename(parent)\n",
        "  for fname in os.listdir(fa):\n",
        "    img_folder_list.append(parent_name)\n",
        "    img_name_list.append(fname)\n",
        "    img_path = osp.join(fa, fname)\n",
        "    img_format_list = \"ok\" if osp.splitext(fname)[-1] in IMG_EXT else \"not ok\"\n",
        "\n",
        "    with Image.open(img_path) as img:\n",
        "      width, height = img.size\n",
        "      img_width_list.append(width)\n",
        "      img_height_list.append(height)\n",
        "\n",
        "data_model = {\"folder\": img_folder_list, \"image_name\": img_name_list,\n",
        "              \"width\": img_width_list, \"height\": img_height_list\n",
        "              , \"format\": img_format_list}\n",
        "report_df = pd.DataFrame(data=data_model)"
      ],
      "metadata": {
        "colab": {
          "base_uri": "https://localhost:8080/",
          "height": 221
        },
        "id": "wkTbL0DSBMhQ",
        "outputId": "634c2ab3-d274-4dd4-fc3c-0fab2518d353"
      },
      "execution_count": 20,
      "outputs": [
        {
          "output_type": "error",
          "ename": "FileNotFoundError",
          "evalue": "[Errno 2] No such file or directory: '/content/rsud20kbangladeshroadsceneunderstanding/RBRU.v1-yolov8/train/images'",
          "traceback": [
            "\u001b[0;31m---------------------------------------------------------------------------\u001b[0m",
            "\u001b[0;31mFileNotFoundError\u001b[0m                         Traceback (most recent call last)",
            "\u001b[0;32m<ipython-input-20-c54eed827819>\u001b[0m in \u001b[0;36m<cell line: 7>\u001b[0;34m()\u001b[0m\n\u001b[1;32m      8\u001b[0m   \u001b[0mparent\u001b[0m \u001b[0;34m=\u001b[0m \u001b[0mos\u001b[0m\u001b[0;34m.\u001b[0m\u001b[0mpath\u001b[0m\u001b[0;34m.\u001b[0m\u001b[0mdirname\u001b[0m\u001b[0;34m(\u001b[0m\u001b[0mfa\u001b[0m\u001b[0;34m)\u001b[0m\u001b[0;34m\u001b[0m\u001b[0;34m\u001b[0m\u001b[0m\n\u001b[1;32m      9\u001b[0m   \u001b[0mparent_name\u001b[0m \u001b[0;34m=\u001b[0m \u001b[0mos\u001b[0m\u001b[0;34m.\u001b[0m\u001b[0mpath\u001b[0m\u001b[0;34m.\u001b[0m\u001b[0mbasename\u001b[0m\u001b[0;34m(\u001b[0m\u001b[0mparent\u001b[0m\u001b[0;34m)\u001b[0m\u001b[0;34m\u001b[0m\u001b[0;34m\u001b[0m\u001b[0m\n\u001b[0;32m---> 10\u001b[0;31m   \u001b[0;32mfor\u001b[0m \u001b[0mfname\u001b[0m \u001b[0;32min\u001b[0m \u001b[0mos\u001b[0m\u001b[0;34m.\u001b[0m\u001b[0mlistdir\u001b[0m\u001b[0;34m(\u001b[0m\u001b[0mfa\u001b[0m\u001b[0;34m)\u001b[0m\u001b[0;34m:\u001b[0m\u001b[0;34m\u001b[0m\u001b[0;34m\u001b[0m\u001b[0m\n\u001b[0m\u001b[1;32m     11\u001b[0m     \u001b[0mimg_folder_list\u001b[0m\u001b[0;34m.\u001b[0m\u001b[0mappend\u001b[0m\u001b[0;34m(\u001b[0m\u001b[0mparent_name\u001b[0m\u001b[0;34m)\u001b[0m\u001b[0;34m\u001b[0m\u001b[0;34m\u001b[0m\u001b[0m\n\u001b[1;32m     12\u001b[0m     \u001b[0mimg_name_list\u001b[0m\u001b[0;34m.\u001b[0m\u001b[0mappend\u001b[0m\u001b[0;34m(\u001b[0m\u001b[0mfname\u001b[0m\u001b[0;34m)\u001b[0m\u001b[0;34m\u001b[0m\u001b[0;34m\u001b[0m\u001b[0m\n",
            "\u001b[0;31mFileNotFoundError\u001b[0m: [Errno 2] No such file or directory: '/content/rsud20kbangladeshroadsceneunderstanding/RBRU.v1-yolov8/train/images'"
          ]
        }
      ]
    },
    {
      "cell_type": "code",
      "source": [
        "IMAGE_SIZE = 640"
      ],
      "metadata": {
        "id": "Mn_Fq8LeqXRm"
      },
      "execution_count": null,
      "outputs": []
    },
    {
      "cell_type": "code",
      "source": [
        "def show_img_matrix(image_list, show_axis=False):\n",
        "  MAX_SIZE = 9\n",
        "  if len(image_list) != MAX_SIZE:\n",
        "    return\n",
        "\n",
        "  plt.figure(figsize=(10, 10))\n",
        "\n",
        "  for i in range(MAX_SIZE):\n",
        "    img_file = image_list[i]\n",
        "    img_name = osp.basename(img_file)\n",
        "    ax = plt.subplot(3, 3, i + 1)\n",
        "    if osp.exists(img_file) == True:\n",
        "      plt.imshow(asarray(Image.open(img_file)))\n",
        "      img = mpimg.imread(img_file)\n",
        "    #Como los nombres son muy extensos, vamos a truncar a 20 caracteres.\n",
        "    plt.title(img_name[:20])\n",
        "    plt.axis(\"on\" if show_axis == True else \"on\")\n",
        "\n",
        "  plt.tight_layout()\n",
        "  plt.show()"
      ],
      "metadata": {
        "id": "GuKWp9oiqZTm"
      },
      "execution_count": null,
      "outputs": []
    },
    {
      "cell_type": "code",
      "source": [
        "img_list = [filename for filename in os.listdir(train_img_folder)]\n",
        "img_count = len(img_list)\n",
        "print(f\"El número total de imágenes es: {img_count}\")"
      ],
      "metadata": {
        "id": "rMxGrZXOqfME"
      },
      "execution_count": null,
      "outputs": []
    },
    {
      "cell_type": "code",
      "source": [
        "import matplotlib.pyplot as plt\n",
        "import numpy as np\n",
        "class_labels = {\n",
        "    0: 'person',\n",
        "    1: 'rickshaw',\n",
        "    2: 'rickshaw van',\n",
        "    3: 'auto rickshaw',\n",
        "    4: 'truck',\n",
        "    5: 'pickup truck',\n",
        "    6: 'private car',\n",
        "    7: 'motorcycle',\n",
        "    8: 'bicycle',\n",
        "    9: 'bus',\n",
        "    10: 'micro bus',\n",
        "    11: 'covered van',\n",
        "    12: 'human hauler'\n",
        "}"
      ],
      "metadata": {
        "id": "ouctVfGgqjwU"
      },
      "execution_count": null,
      "outputs": []
    }
  ]
}